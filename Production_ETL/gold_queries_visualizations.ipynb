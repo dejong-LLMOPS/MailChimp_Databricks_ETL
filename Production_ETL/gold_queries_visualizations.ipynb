{
 "cells": [
  {
   "cell_type": "markdown",
   "metadata": {
    "application/vnd.databricks.v1+cell": {
     "cellMetadata": {},
     "inputWidgets": {},
     "nuid": "9c17acea-d974-4f20-a6bf-f17d50692e57",
     "showTitle": false,
     "tableResultSettingsMap": {},
     "title": ""
    }
   },
   "source": [
    "Calculates the subscriber count, average open rate, and average click rate for each email list. It filters out incomplete records and sorts the lists by average open rate in descending order."
   ]
  },
  {
   "cell_type": "code",
   "execution_count": 0,
   "metadata": {
    "application/vnd.databricks.v1+cell": {
     "cellMetadata": {
      "byteLimit": 2048000,
      "implicitDf": true,
      "rowLimit": 10000
     },
     "inputWidgets": {},
     "nuid": "784e97a0-1150-4ee1-b7a3-bb30cb49e0c3",
     "showTitle": false,
     "tableResultSettingsMap": {},
     "title": ""
    }
   },
   "outputs": [],
   "source": [
    "%sql\n",
    "SELECT\n",
    "    dl.list_name,\n",
    "    COUNT(DISTINCT f.unique_email_id) AS subscribers,\n",
    "    AVG(f.stats_avg_open_rate) AS avg_open_rate,\n",
    "    AVG(f.stats_avg_click_rate) AS avg_click_rate\n",
    "FROM delta.`abfss://gold@mailchimpspnetwork.dfs.core.windows.net/fact_list_membership` f\n",
    "JOIN delta.`abfss://gold@mailchimpspnetwork.dfs.core.windows.net/dim_list` dl\n",
    "  ON f.list_id = dl.list_id\n",
    "WHERE f.stats_avg_open_rate IS NOT NULL\n",
    "  AND f.stats_avg_click_rate IS NOT NULL\n",
    "  AND f.status = 'subscribed'\n",
    "GROUP BY dl.list_name\n",
    "ORDER BY avg_open_rate DESC\n"
   ]
  },
  {
   "cell_type": "markdown",
   "metadata": {
    "application/vnd.databricks.v1+cell": {
     "cellMetadata": {},
     "inputWidgets": {},
     "nuid": "22a0ece1-0295-46dd-81f8-aa853a6c066b",
     "showTitle": false,
     "tableResultSettingsMap": {},
     "title": ""
    }
   },
   "source": [
    "retrieves the top 10 subscribed contacts with over 5 list memberships, calculating each contact's list count and open rate standard deviation, and orders them by the highest variability."
   ]
  },
  {
   "cell_type": "code",
   "execution_count": 0,
   "metadata": {
    "application/vnd.databricks.v1+cell": {
     "cellMetadata": {
      "byteLimit": 2048000,
      "implicitDf": true,
      "rowLimit": 10000
     },
     "inputWidgets": {},
     "nuid": "538fadd9-1a1f-4705-b9f3-26199801eb5c",
     "showTitle": false,
     "tableResultSettingsMap": {},
     "title": ""
    }
   },
   "outputs": [],
   "source": [
    "%sql\n",
    "SELECT \n",
    "    f.unique_email_id,\n",
    "    dc.full_name,\n",
    "    COUNT(DISTINCT f.list_id) AS list_count,\n",
    "    STDDEV(f.stats_avg_open_rate) AS open_rate_stddev\n",
    "FROM delta.`abfss://gold@mailchimpspnetwork.dfs.core.windows.net/fact_list_membership` f\n",
    "JOIN delta.`abfss://gold@mailchimpspnetwork.dfs.core.windows.net/dim_contact` dc\n",
    "  ON f.unique_email_id = dc.unique_email_id\n",
    "WHERE f.status = 'subscribed'\n",
    "  AND f.stats_avg_open_rate IS NOT NULL\n",
    "GROUP BY f.unique_email_id, dc.full_name\n",
    "HAVING COUNT(DISTINCT f.list_id) > 5\n",
    "ORDER BY open_rate_stddev DESC\n",
    "LIMIT 10\n"
   ]
  },
  {
   "cell_type": "markdown",
   "metadata": {
    "application/vnd.databricks.v1+cell": {
     "cellMetadata": {},
     "inputWidgets": {},
     "nuid": "d2ee9f36-c625-4366-9f6d-f9de2f7d4fa0",
     "showTitle": false,
     "tableResultSettingsMap": {},
     "title": ""
    }
   },
   "source": [
    "counts monthly signups for each email list by grouping on list name and the month of signup, including only subscribed users with a valid signup timestamp. The results are then ordered by list name and month."
   ]
  },
  {
   "cell_type": "code",
   "execution_count": 0,
   "metadata": {
    "application/vnd.databricks.v1+cell": {
     "cellMetadata": {
      "byteLimit": 2048000,
      "implicitDf": true,
      "rowLimit": 10000
     },
     "inputWidgets": {},
     "nuid": "6a332a9d-22a7-492f-82b7-8316058120b1",
     "showTitle": false,
     "tableResultSettingsMap": {},
     "title": ""
    }
   },
   "outputs": [],
   "source": [
    "%sql\n",
    "SELECT\n",
    "    dl.list_name,\n",
    "    date_trunc('month', f.timestamp_signup) AS signup_month,\n",
    "    COUNT(*) AS monthly_signups\n",
    "FROM delta.`abfss://gold@mailchimpspnetwork.dfs.core.windows.net/fact_list_membership` f\n",
    "JOIN delta.`abfss://gold@mailchimpspnetwork.dfs.core.windows.net/dim_list` dl\n",
    "  ON f.list_id = dl.list_id\n",
    "WHERE f.status = 'subscribed'\n",
    "  AND f.timestamp_signup IS NOT NULL\n",
    "GROUP BY dl.list_name, date_trunc('month', f.timestamp_signup)\n",
    "ORDER BY dl.list_name, signup_month\n"
   ]
  },
  {
   "cell_type": "markdown",
   "metadata": {
    "application/vnd.databricks.v1+cell": {
     "cellMetadata": {},
     "inputWidgets": {},
     "nuid": "aa99a54e-0111-4dba-8f42-ba1e48a16f56",
     "showTitle": false,
     "tableResultSettingsMap": {},
     "title": ""
    }
   },
   "source": [
    " counts monthly signups for each email list using either the signup or opt-in timestamp. It groups and orders the results by list name and month."
   ]
  },
  {
   "cell_type": "code",
   "execution_count": 0,
   "metadata": {
    "application/vnd.databricks.v1+cell": {
     "cellMetadata": {
      "byteLimit": 2048000,
      "implicitDf": true,
      "rowLimit": 10000
     },
     "inputWidgets": {},
     "nuid": "ec6ceda4-b964-4e2a-9b57-23c824a6507c",
     "showTitle": false,
     "tableResultSettingsMap": {},
     "title": ""
    }
   },
   "outputs": [],
   "source": [
    "%sql\n",
    "SELECT\n",
    "    dl.list_name,\n",
    "    date_trunc('month', COALESCE(f.timestamp_signup, f.timestamp_opt)) AS signup_month,\n",
    "    COUNT(*) AS monthly_signups\n",
    "FROM delta.`abfss://gold@mailchimpspnetwork.dfs.core.windows.net/fact_list_membership` f\n",
    "JOIN delta.`abfss://gold@mailchimpspnetwork.dfs.core.windows.net/dim_list` dl\n",
    "  ON f.list_id = dl.list_id\n",
    "WHERE f.status = 'subscribed'\n",
    "  AND (f.timestamp_signup IS NOT NULL OR f.timestamp_opt IS NOT NULL)\n",
    "GROUP BY dl.list_name, date_trunc('month', COALESCE(f.timestamp_signup, f.timestamp_opt))\n",
    "ORDER BY dl.list_name, signup_month\n"
   ]
  },
  {
   "cell_type": "markdown",
   "metadata": {
    "application/vnd.databricks.v1+cell": {
     "cellMetadata": {},
     "inputWidgets": {},
     "nuid": "3849305c-9b9c-43a7-9958-1059d021e0b4",
     "showTitle": false,
     "tableResultSettingsMap": {},
     "title": ""
    }
   },
   "source": [
    "Monthly Signups for Top 5 Most Subscribed Lists"
   ]
  },
  {
   "cell_type": "code",
   "execution_count": 0,
   "metadata": {
    "application/vnd.databricks.v1+cell": {
     "cellMetadata": {
      "byteLimit": 2048000,
      "rowLimit": 10000
     },
     "inputWidgets": {},
     "nuid": "4d943904-5889-4664-bb50-8156c6746da2",
     "showTitle": false,
     "tableResultSettingsMap": {},
     "title": ""
    }
   },
   "outputs": [],
   "source": [
    "import pandas as pd\n",
    "import plotly.express as px\n",
    "\n",
    "# Query to get monthly signups for all lists using COALESCE on timestamps\n",
    "monthly_signups_df = spark.sql(\"\"\"\n",
    "SELECT\n",
    "    dl.list_name,\n",
    "    date_trunc('month', COALESCE(f.timestamp_signup, f.timestamp_opt)) AS signup_month,\n",
    "    COUNT(*) AS monthly_signups\n",
    "FROM delta.`abfss://gold@mailchimpspnetwork.dfs.core.windows.net/fact_list_membership` f\n",
    "JOIN delta.`abfss://gold@mailchimpspnetwork.dfs.core.windows.net/dim_list` dl\n",
    "  ON f.list_id = dl.list_id\n",
    "WHERE f.status = 'subscribed'\n",
    "  AND (f.timestamp_signup IS NOT NULL OR f.timestamp_opt IS NOT NULL)\n",
    "GROUP BY dl.list_name, date_trunc('month', COALESCE(f.timestamp_signup, f.timestamp_opt))\n",
    "ORDER BY dl.list_name, signup_month\n",
    "\"\"\")\n",
    "\n",
    "# Query to determine the top 5 most subscribed lists by counting distinct subscribed contacts\n",
    "top_lists_df = spark.sql(\"\"\"\n",
    "SELECT \n",
    "    dl.list_name, \n",
    "    COUNT(DISTINCT f.unique_email_id) AS num_subscribers\n",
    "FROM delta.`abfss://gold@mailchimpspnetwork.dfs.core.windows.net/fact_list_membership` f\n",
    "JOIN delta.`abfss://gold@mailchimpspnetwork.dfs.core.windows.net/dim_list` dl\n",
    "  ON f.list_id = dl.list_id\n",
    "WHERE f.status = 'subscribed'\n",
    "  AND (f.timestamp_signup IS NOT NULL OR f.timestamp_opt IS NOT NULL)\n",
    "GROUP BY dl.list_name\n",
    "ORDER BY num_subscribers DESC\n",
    "LIMIT 5\n",
    "\"\"\")\n",
    "\n",
    "# Convert top lists to Pandas to get the list names\n",
    "top_lists_pd = top_lists_df.toPandas()\n",
    "top5_lists = list(top_lists_pd['list_name'])\n",
    "\n",
    "# Filter the monthly signups DataFrame to only include the top 5 lists\n",
    "monthly_top5_df = monthly_signups_df.filter(monthly_signups_df.list_name.isin(top5_lists))\n",
    "\n",
    "# Convert to Pandas for plotting\n",
    "monthly_top5_pd = monthly_top5_df.toPandas()\n",
    "\n",
    "# Convert the signup_month column to datetime\n",
    "monthly_top5_pd['signup_month'] = pd.to_datetime(monthly_top5_pd['signup_month'])\n",
    "\n",
    "# Create an interactive line plot using Plotly Express\n",
    "fig = px.line(\n",
    "    monthly_top5_pd, \n",
    "    x='signup_month', \n",
    "    y='monthly_signups', \n",
    "    color='list_name',\n",
    "    markers=True,\n",
    "    title=\"Monthly Signups for Top 5 Most Subscribed Lists\"\n",
    ")\n",
    "\n",
    "# Update layout with axis titles\n",
    "fig.update_layout(\n",
    "    xaxis_title=\"Signup Month\",\n",
    "    yaxis_title=\"Monthly Signups\",\n",
    "    legend_title=\"List Name\"\n",
    ")\n",
    "\n",
    "# Show the plot\n",
    "fig.show()\n"
   ]
  },
  {
   "cell_type": "markdown",
   "metadata": {
    "application/vnd.databricks.v1+cell": {
     "cellMetadata": {},
     "inputWidgets": {},
     "nuid": "2e58e531-7be0-4f0c-9490-6929c66e7f76",
     "showTitle": false,
     "tableResultSettingsMap": {},
     "title": ""
    }
   },
   "source": [
    "Displays the distribution of contacts by language from your dim_contact table. It can help you understand the diversity of your audience."
   ]
  },
  {
   "cell_type": "code",
   "execution_count": 0,
   "metadata": {
    "application/vnd.databricks.v1+cell": {
     "cellMetadata": {
      "byteLimit": 2048000,
      "rowLimit": 10000
     },
     "inputWidgets": {},
     "nuid": "c389e459-7eda-47d2-8e3f-733886692faa",
     "showTitle": false,
     "tableResultSettingsMap": {},
     "title": ""
    }
   },
   "outputs": [],
   "source": [
    "import pandas as pd\n",
    "import plotly.graph_objects as goa\n",
    "\n",
    "# Query to compute average engagement metrics per list\n",
    "engagement_df = spark.sql(\"\"\"\n",
    "SELECT\n",
    "    dl.list_name,\n",
    "    AVG(f.stats_avg_open_rate) AS avg_open_rate,\n",
    "    AVG(f.stats_avg_click_rate) AS avg_click_rate\n",
    "FROM delta.`abfss://gold@mailchimpspnetwork.dfs.core.windows.net/fact_list_membership` f\n",
    "JOIN delta.`abfss://gold@mailchimpspnetwork.dfs.core.windows.net/dim_list` dl\n",
    "  ON f.list_id = dl.list_id\n",
    "WHERE f.status = 'subscribed'\n",
    "  AND f.stats_avg_open_rate IS NOT NULL\n",
    "  AND f.stats_avg_click_rate IS NOT NULL\n",
    "GROUP BY dl.list_name\n",
    "ORDER BY avg_open_rate DESC\n",
    "\"\"\")\n",
    "\n",
    "# Convert to Pandas DataFrame\n",
    "engagement_pd = engagement_df.toPandas()\n",
    "\n",
    "# Create a grouped bar chart using Plotly\n",
    "fig1 = go.Figure(data=[\n",
    "    go.Bar(name='Avg Open Rate', x=engagement_pd['list_name'], y=engagement_pd['avg_open_rate']),\n",
    "    go.Bar(name='Avg Click Rate', x=engagement_pd['list_name'], y=engagement_pd['avg_click_rate'])\n",
    "])\n",
    "\n",
    "fig1.update_layout(\n",
    "    barmode='group',\n",
    "    title='Average Engagement Metrics per List',\n",
    "    xaxis_title='List Name',\n",
    "    yaxis_title='Rate',\n",
    "    legend_title='Metric'\n",
    ")\n",
    "\n",
    "fig1.show()\n"
   ]
  },
  {
   "cell_type": "markdown",
   "metadata": {
    "application/vnd.databricks.v1+cell": {
     "cellMetadata": {},
     "inputWidgets": {},
     "nuid": "396aea1d-be4d-4c67-80bb-418369c0cae1",
     "showTitle": false,
     "tableResultSettingsMap": {},
     "title": ""
    }
   },
   "source": [
    "shows each list's engagement by plotting its average open rate versus its average click rate. The size of each point represents the number of subscribers, and each list is identified by color and label."
   ]
  },
  {
   "cell_type": "code",
   "execution_count": 0,
   "metadata": {
    "application/vnd.databricks.v1+cell": {
     "cellMetadata": {
      "byteLimit": 2048000,
      "rowLimit": 10000
     },
     "inputWidgets": {},
     "nuid": "d4ec2e52-37d0-47ef-a046-f14b1a43bb4e",
     "showTitle": false,
     "tableResultSettingsMap": {},
     "title": ""
    }
   },
   "outputs": [],
   "source": [
    "import pandas as pd\n",
    "import plotly.express as px\n",
    "\n",
    "# Query to get per-list engagement metrics: average open rate, average click rate, and subscriber count\n",
    "list_metrics_df = spark.sql(\"\"\"\n",
    "SELECT\n",
    "    dl.list_name,\n",
    "    AVG(f.stats_avg_open_rate) AS avg_open_rate,\n",
    "    AVG(f.stats_avg_click_rate) AS avg_click_rate,\n",
    "    COUNT(DISTINCT f.unique_email_id) AS subscribers\n",
    "FROM delta.`abfss://gold@mailchimpspnetwork.dfs.core.windows.net/fact_list_membership` f\n",
    "JOIN delta.`abfss://gold@mailchimpspnetwork.dfs.core.windows.net/dim_list` dl\n",
    "  ON f.list_id = dl.list_id\n",
    "WHERE f.status = 'subscribed'\n",
    "  AND f.stats_avg_open_rate IS NOT NULL\n",
    "  AND f.stats_avg_click_rate IS NOT NULL\n",
    "GROUP BY dl.list_name\n",
    "ORDER BY subscribers DESC\n",
    "\"\"\")\n",
    "\n",
    "# Convert the results to a Pandas DataFrame\n",
    "list_metrics_pd = list_metrics_df.toPandas()\n",
    "\n",
    "# Create an interactive scatter plot using Plotly Express\n",
    "fig3 = px.scatter(\n",
    "    list_metrics_pd,\n",
    "    x='avg_open_rate',\n",
    "    y='avg_click_rate',\n",
    "    size='subscribers',\n",
    "    color='list_name',\n",
    "    hover_name='list_name',\n",
    "    title='List Engagement: Open Rate vs Click Rate',\n",
    "    labels={\n",
    "        'avg_open_rate': 'Average Open Rate',\n",
    "        'avg_click_rate': 'Average Click Rate',\n",
    "        'subscribers': 'Number of Subscribers'\n",
    "    }\n",
    ")\n",
    "\n",
    "fig3.show()\n"
   ]
  }
 ],
 "metadata": {
  "application/vnd.databricks.v1+notebook": {
   "computePreferences": null,
   "dashboards": [],
   "environmentMetadata": {
    "base_environment": "",
    "environment_version": "2"
   },
   "inputWidgetPreferences": null,
   "language": "python",
   "notebookMetadata": {
    "mostRecentlyExecutedCommandWithImplicitDF": {
     "commandId": 5067901886516653,
     "dataframes": [
      "_sqldf"
     ]
    },
    "pythonIndentUnit": 4
   },
   "notebookName": "gold_queries_visualizations",
   "widgets": {}
  },
  "language_info": {
   "name": "python"
  }
 },
 "nbformat": 4,
 "nbformat_minor": 0
}
