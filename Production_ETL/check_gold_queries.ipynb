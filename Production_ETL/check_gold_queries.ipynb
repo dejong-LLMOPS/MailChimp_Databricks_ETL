{
 "cells": [
  {
   "cell_type": "code",
   "execution_count": 0,
   "metadata": {
    "application/vnd.databricks.v1+cell": {
     "cellMetadata": {
      "byteLimit": 2048000,
      "implicitDf": true,
      "rowLimit": 10000
     },
     "inputWidgets": {},
     "nuid": "457e21eb-635a-43d7-bc30-c41d21f2faa8",
     "showTitle": false,
     "tableResultSettingsMap": {},
     "title": ""
    }
   },
   "outputs": [],
   "source": [
    "%sql\n",
    "SELECT \n",
    "  f.unique_email_id,\n",
    "  f.status,\n",
    "  c.full_name,\n",
    "  c.merge_FNAME,\n",
    "  c.merge_LNAME,\n",
    "  c.email_address,\n",
    "  c.address_city,\n",
    "  c.address_state,\n",
    "  c.address_country,\n",
    "  COUNT(DISTINCT f.list_id) AS list_count\n",
    "FROM delta.`abfss://gold@mailchimpspnetwork.dfs.core.windows.net/fact_list_membership` f\n",
    "JOIN delta.`abfss://gold@mailchimpspnetwork.dfs.core.windows.net/dim_contact` c\n",
    "  ON f.unique_email_id = c.unique_email_id\n",
    "GROUP BY \n",
    "  f.unique_email_id,\n",
    "  f.status,\n",
    "  c.full_name,\n",
    "  c.merge_FNAME,\n",
    "  c.merge_LNAME,\n",
    "  c.email_address,\n",
    "  c.address_city,\n",
    "  c.address_state,\n",
    "  c.address_country\n",
    "HAVING COUNT(DISTINCT f.list_id) > 6\n",
    "ORDER BY list_count DESC\n"
   ]
  },
  {
   "cell_type": "code",
   "execution_count": 0,
   "metadata": {
    "application/vnd.databricks.v1+cell": {
     "cellMetadata": {
      "byteLimit": 2048000,
      "implicitDf": true,
      "rowLimit": 10000
     },
     "inputWidgets": {},
     "nuid": "538fadd9-1a1f-4705-b9f3-26199801eb5c",
     "showTitle": false,
     "tableResultSettingsMap": {},
     "title": ""
    }
   },
   "outputs": [],
   "source": [
    "%sql\n",
    "SELECT status, COUNT(*) AS total_contacts\n",
    "FROM delta.`abfss://gold@mailchimpspnetwork.dfs.core.windows.net/fact_list_membership`\n",
    "WHERE list_id IN (\n",
    "    SELECT list_id \n",
    "    FROM delta.`abfss://gold@mailchimpspnetwork.dfs.core.windows.net/dim_list`\n",
    "    WHERE list_name = 'SPN_Supporters'\n",
    ")\n",
    "GROUP BY status\n"
   ]
  }
 ],
 "metadata": {
  "application/vnd.databricks.v1+notebook": {
   "computePreferences": null,
   "dashboards": [],
   "environmentMetadata": {
    "base_environment": "",
    "environment_version": "2"
   },
   "inputWidgetPreferences": null,
   "language": "python",
   "notebookMetadata": {
    "mostRecentlyExecutedCommandWithImplicitDF": {
     "commandId": 8237105351477754,
     "dataframes": [
      "_sqldf"
     ]
    },
    "pythonIndentUnit": 4
   },
   "notebookName": "check_gold_queries",
   "widgets": {}
  },
  "language_info": {
   "name": "python"
  }
 },
 "nbformat": 4,
 "nbformat_minor": 0
}
