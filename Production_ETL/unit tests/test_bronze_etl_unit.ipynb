{
 "cells": [
  {
   "cell_type": "code",
   "execution_count": 0,
   "metadata": {
    "application/vnd.databricks.v1+cell": {
     "cellMetadata": {
      "byteLimit": 2048000,
      "rowLimit": 10000
     },
     "inputWidgets": {},
     "nuid": "09f4fe68-7991-4468-b196-84cb4a5be1fe",
     "showTitle": false,
     "tableResultSettingsMap": {},
     "title": ""
    }
   },
   "outputs": [],
   "source": [
    "%run /Workspace/Users/ndejong@spn.org/Mailchimp_ETL/Production_ETL/01_Bronze_prod\n"
   ]
  },
  {
   "cell_type": "code",
   "execution_count": 0,
   "metadata": {
    "application/vnd.databricks.v1+cell": {
     "cellMetadata": {
      "byteLimit": 2048000,
      "rowLimit": 10000
     },
     "inputWidgets": {},
     "nuid": "edff1b73-9370-44ba-909d-2597e4778838",
     "showTitle": false,
     "tableResultSettingsMap": {},
     "title": ""
    }
   },
   "outputs": [],
   "source": [
    "# test_mailchimp_bronze_etl\n",
    "\n",
    "import unittest\n",
    "from unittest.mock import patch, MagicMock\n",
    "import json\n",
    "\n",
    "\n",
    "\n",
    "class TestMailchimpETL(unittest.TestCase):\n",
    "\n",
    "    def test_safe_sanitize_list_name(self):\n",
    "        self.assertEqual(safe_sanitize_list_name(\"Test List!\"), \"Test_List_\")\n",
    "        self.assertEqual(safe_sanitize_list_name(\"🔥Cool_List🔥\"), \"_Cool_List_\")  # fixed expected result\n",
    "\n",
    "    @patch(\"__main__.container_client\")\n",
    "    def test_upload_raw_json(self, mock_container_client):\n",
    "        mock_file_client = MagicMock()\n",
    "        mock_container_client.get_file_client.return_value = mock_file_client\n",
    "\n",
    "        folder = \"mailchimp_members/test_list/ingestion_date=2024-01-01\"\n",
    "        file = \"test.json\"\n",
    "        json_data = '{\"hello\": \"world\"}'\n",
    "\n",
    "        upload_raw_json(folder, file, json_data)\n",
    "\n",
    "        full_path = f\"{folder}/{file}\"\n",
    "        mock_container_client.get_file_client.assert_called_with(full_path)\n",
    "        mock_file_client.upload_data.assert_called_once_with(json_data.encode(\"utf-8\"), overwrite=True)\n",
    "\n",
    "    @patch(\"__main__.client\")\n",
    "    def test_fetch_all_lists(self, mock_client):\n",
    "        mock_client.lists.get_all_lists.side_effect = [\n",
    "            {\"lists\": [{\"id\": \"1\", \"name\": \"List1\"}], \"total_items\": 2},\n",
    "            {\"lists\": [{\"id\": \"2\", \"name\": \"List2\"}], \"total_items\": 2}\n",
    "        ]\n",
    "\n",
    "        result = fetch_all_lists()\n",
    "        self.assertEqual(len(result), 2)\n",
    "        self.assertEqual(result[0][\"name\"], \"List1\")\n",
    "        self.assertEqual(result[1][\"name\"], \"List2\")\n",
    "\n",
    "    @patch(\"__main__.upload_raw_json\")\n",
    "    @patch(\"__main__.client\")\n",
    "    def test_fetch_list_members(self, mock_client, mock_upload_raw_json):\n",
    "        mock_list = {\"id\": \"123\", \"name\": \"Test List\"}\n",
    "        mock_client.lists.get_list_members_info.side_effect = [\n",
    "            {\"members\": [{\"email\": \"a@example.com\"}]},\n",
    "            {\"members\": []}  # Stop paging\n",
    "        ]\n",
    "\n",
    "        fetch_list_members(mock_list)\n",
    "\n",
    "        mock_upload_raw_json.assert_called_once()\n",
    "        args, _ = mock_upload_raw_json.call_args\n",
    "        self.assertIn(\"Test_List\", args[0])  # Folder path check\n",
    "        data_written = json.loads(args[2])\n",
    "        self.assertEqual(len(data_written), 1)\n",
    "\n",
    "\n",
    "# Run the tests in this notebook\n",
    "unittest.main(argv=[''], verbosity=2, exit=False)\n"
   ]
  },
  {
   "cell_type": "code",
   "execution_count": 0,
   "metadata": {
    "application/vnd.databricks.v1+cell": {
     "cellMetadata": {
      "byteLimit": 2048000,
      "rowLimit": 10000
     },
     "inputWidgets": {},
     "nuid": "122e4322-119e-42a5-806f-3d47f074f755",
     "showTitle": false,
     "tableResultSettingsMap": {},
     "title": ""
    }
   },
   "outputs": [],
   "source": [
    "class TestMailchimpETLIntegration(unittest.TestCase):\n",
    "\n",
    "    @patch(\"__main__.cleanup_old_files\")\n",
    "    @patch(\"__main__.fetch_and_store_members\")\n",
    "    @patch(\"__main__.fetch_all_lists\")\n",
    "    def test_run_etl_full_flow(self, mock_fetch_lists, mock_store_members, mock_cleanup):\n",
    "        mock_fetch_lists.return_value = [\n",
    "            {\"id\": \"list1\", \"name\": \"List One\"},\n",
    "            {\"id\": \"list2\", \"name\": \"List Two\"}\n",
    "        ]\n",
    "\n",
    "        run_mailchimp_bronze_etl()\n",
    "\n",
    "        mock_fetch_lists.assert_called_once()\n",
    "        mock_store_members.assert_called_once_with(mock_fetch_lists.return_value)\n",
    "        mock_cleanup.assert_called_once()\n",
    "\n",
    "# Run the test\n",
    "unittest.main(argv=[''], verbosity=2, exit=False)"
   ]
  }
 ],
 "metadata": {
  "application/vnd.databricks.v1+notebook": {
   "computePreferences": null,
   "dashboards": [],
   "environmentMetadata": {
    "base_environment": "",
    "environment_version": "2"
   },
   "inputWidgetPreferences": null,
   "language": "python",
   "notebookMetadata": {
    "pythonIndentUnit": 4
   },
   "notebookName": "test_bronze_etl_unit",
   "widgets": {}
  },
  "language_info": {
   "name": "python"
  }
 },
 "nbformat": 4,
 "nbformat_minor": 0
}
