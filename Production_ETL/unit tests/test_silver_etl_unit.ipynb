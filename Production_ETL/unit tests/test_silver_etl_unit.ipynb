{
 "cells": [
  {
   "cell_type": "code",
   "execution_count": 0,
   "metadata": {
    "application/vnd.databricks.v1+cell": {
     "cellMetadata": {
      "byteLimit": 2048000,
      "rowLimit": 10000
     },
     "inputWidgets": {},
     "nuid": "98ec096b-c86e-447d-b284-764d82c57c56",
     "showTitle": false,
     "tableResultSettingsMap": {},
     "title": ""
    }
   },
   "outputs": [],
   "source": [
    "%run /Workspace/Users/ndejong@spn.org/Mailchimp_ETL/Production_ETL/02_Silver_prod"
   ]
  },
  {
   "cell_type": "code",
   "execution_count": 0,
   "metadata": {
    "application/vnd.databricks.v1+cell": {
     "cellMetadata": {
      "byteLimit": 2048000,
      "rowLimit": 10000
     },
     "inputWidgets": {},
     "nuid": "95f705c9-9299-40d4-a542-9017a79c8346",
     "showTitle": false,
     "tableResultSettingsMap": {},
     "title": ""
    }
   },
   "outputs": [],
   "source": [
    "import unittest\n",
    "from unittest.mock import patch, MagicMock\n",
    "import pandas as pd\n",
    "import json\n",
    "\n",
    "class TestMailchimpSilverETL(unittest.TestCase):\n",
    "\n",
    "    def test_flatten_and_clean(self):\n",
    "        from __main__ import flatten_and_clean\n",
    "\n",
    "        data = [\n",
    "            {\n",
    "                \"email_address\": \"user@example.com\",\n",
    "                \"last_changed\": \"2024-01-01T12:00:00Z\",\n",
    "                \"merge_fields\": {\"FNAME\": \"Alice\"},\n",
    "                \"location\": {\"latitude\": 50, \"longitude\": 8},\n",
    "                \"stats\": {\"opens\": 5}\n",
    "            },\n",
    "            {\n",
    "                \"email_address\": \"user@example.com\",\n",
    "                \"last_changed\": \"2023-01-01T12:00:00Z\",\n",
    "                \"merge_fields\": {\"FNAME\": \"Old Alice\"},\n",
    "            }\n",
    "        ]\n",
    "        df = pd.DataFrame(data)\n",
    "        result = flatten_and_clean(df)\n",
    "\n",
    "        self.assertEqual(len(result), 1)\n",
    "        self.assertIn(\"merge_FNAME\", result.columns)\n",
    "        self.assertEqual(result.iloc[0][\"merge_FNAME\"], \"Alice\")\n",
    "\n",
    "    @patch('__main__.bronze_fs')\n",
    "    def test_list_mailchimp_lists(self, mock_bronze_fs):\n",
    "        from __main__ import list_mailchimp_lists\n",
    "\n",
    "        # Simulate directory paths with proper string names\n",
    "        mock_path1 = MagicMock()\n",
    "        mock_path1.is_directory = True\n",
    "        mock_path1.name = \"mailchimp_members/listName=ListX/ingestion_date=2024-03-01\"\n",
    "\n",
    "        mock_path2 = MagicMock()\n",
    "        mock_path2.is_directory = False\n",
    "        mock_path2.name = \"mailchimp_members/somefile.json\"\n",
    "\n",
    "        mock_bronze_fs.get_paths.return_value = [mock_path1, mock_path2]\n",
    "\n",
    "        result = list_mailchimp_lists()\n",
    "        self.assertIn(\"ListX\", result)\n",
    "        self.assertEqual(len(result), 1)\n",
    "\n",
    "    @patch('__main__.bronze_fs')\n",
    "    def test_read_bronze_json_malformed(self, mock_bronze_fs):\n",
    "        from __main__ import read_bronze_json\n",
    "\n",
    "        mock_path = MagicMock()\n",
    "        mock_path.is_directory = False\n",
    "        mock_path.name = \"mailchimp_members/listName=BadList/file.json\"\n",
    "\n",
    "        mock_file_client = MagicMock()\n",
    "        mock_file_client.download_file.return_value.readall.return_value = b'{\"bad_json\":'\n",
    "\n",
    "        mock_bronze_fs.get_paths.return_value = [mock_path]\n",
    "        mock_bronze_fs.get_file_client.return_value = mock_file_client\n",
    "\n",
    "        with self.assertLogs(\"MailchimpSilverETL\", level=\"ERROR\") as cm:\n",
    "            df = read_bronze_json(\"BadList\")\n",
    "            self.assertTrue(df.empty)\n",
    "            self.assertIn(\"JSON parse failure\", \"\\n\".join(cm.output))\n",
    "\n",
    "\n",
    "# Run inside Databricks cell\n",
    "unittest.TextTestRunner().run(unittest.TestLoader().loadTestsFromTestCase(TestMailchimpSilverETL))\n"
   ]
  }
 ],
 "metadata": {
  "application/vnd.databricks.v1+notebook": {
   "computePreferences": null,
   "dashboards": [],
   "environmentMetadata": {
    "base_environment": "",
    "environment_version": "2"
   },
   "inputWidgetPreferences": null,
   "language": "python",
   "notebookMetadata": {
    "pythonIndentUnit": 4
   },
   "notebookName": "test_silver_etl_unit",
   "widgets": {}
  },
  "language_info": {
   "name": "python"
  }
 },
 "nbformat": 4,
 "nbformat_minor": 0
}
